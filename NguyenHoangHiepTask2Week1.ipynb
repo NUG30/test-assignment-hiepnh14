{
  "nbformat": 4,
  "nbformat_minor": 0,
  "metadata": {
    "colab": {
      "name": "Untitled0.ipynb",
      "provenance": [],
      "collapsed_sections": [],
      "authorship_tag": "ABX9TyM67opPFkIIU+IrcC44RbTP",
      "include_colab_link": true
    },
    "kernelspec": {
      "name": "python3",
      "display_name": "Python 3"
    }
  },
  "cells": [
    {
      "cell_type": "markdown",
      "metadata": {
        "id": "view-in-github",
        "colab_type": "text"
      },
      "source": [
        "<a href=\"https://colab.research.google.com/github/NUG30/test-assignment-hiepnh14/blob/master/NguyenHoangHiepTask2Week1.ipynb\" target=\"_parent\"><img src=\"https://colab.research.google.com/assets/colab-badge.svg\" alt=\"Open In Colab\"/></a>"
      ]
    },
    {
      "cell_type": "code",
      "metadata": {
        "id": "hGcOQQ8xtTNb"
      },
      "source": [
        ""
      ],
      "execution_count": null,
      "outputs": []
    },
    {
      "cell_type": "code",
      "metadata": {
        "id": "Wtq91t2KtSzw"
      },
      "source": [
        ""
      ],
      "execution_count": null,
      "outputs": []
    },
    {
      "cell_type": "markdown",
      "metadata": {
        "id": "geBxpJGpuJLo"
      },
      "source": [
        "$x=$$ -b \\pm \\sqrt{b^2-4ac}\\over 2a $ "
      ]
    },
    {
      "cell_type": "markdown",
      "metadata": {
        "id": "-Jji9i9isMDN"
      },
      "source": [
        ""
      ]
    }
  ]
}