{
  "nbformat": 4,
  "nbformat_minor": 0,
  "metadata": {
    "colab": {
      "name": "Untitled0.ipynb",
      "provenance": [],
      "authorship_tag": "ABX9TyNqTx3JnSgoxLgt8aFpVjXF",
      "include_colab_link": true
    },
    "kernelspec": {
      "name": "python3",
      "display_name": "Python 3"
    }
  },
  "cells": [
    {
      "cell_type": "markdown",
      "metadata": {
        "id": "view-in-github",
        "colab_type": "text"
      },
      "source": [
        "<a href=\"https://colab.research.google.com/github/NUG30/test-assignment-hiepnh14/blob/master/NguyenHoangHiepTask1Week1.ipynb\" target=\"_parent\"><img src=\"https://colab.research.google.com/assets/colab-badge.svg\" alt=\"Open In Colab\"/></a>"
      ]
    },
    {
      "cell_type": "markdown",
      "metadata": {
        "id": "-Jji9i9isMDN"
      },
      "source": [
        ""
      ]
    },
    {
      "cell_type": "markdown",
      "metadata": {
        "id": "3TYrnwG3sPZS"
      },
      "source": [
        "- Nguyen Hoang Hiep\n",
        "- Second year student.\n",
        "- Electrical, Electronics, Information Engineering Automotive Engineering, G30 Program, Nagoya University\n",
        "- Email: hiepnguyen2000pro@gmail.com\n"
      ]
    }
  ]
}